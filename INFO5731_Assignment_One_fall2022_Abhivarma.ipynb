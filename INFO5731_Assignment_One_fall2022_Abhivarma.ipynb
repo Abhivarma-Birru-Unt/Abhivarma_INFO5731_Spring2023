{
  "cells": [
    {
      "cell_type": "markdown",
      "metadata": {
        "id": "view-in-github",
        "colab_type": "text"
      },
      "source": [
        "<a href=\"https://colab.research.google.com/github/Abhivarma-Birru-Unt/Abhivarma_INFO5731_Spring2023/blob/main/INFO5731_Assignment_One_fall2022_Abhivarma.ipynb\" target=\"_parent\"><img src=\"https://colab.research.google.com/assets/colab-badge.svg\" alt=\"Open In Colab\"/></a>"
      ]
    },
    {
      "cell_type": "markdown",
      "metadata": {
        "id": "Ryk8D1Q4Wsrp"
      },
      "source": [
        "# **INFO5731 Assignment One**"
      ]
    },
    {
      "cell_type": "markdown",
      "metadata": {
        "id": "90_NR8c5XGWc"
      },
      "source": [
        "# Question 1\n",
        "\n",
        "(20 points). Write a Python program to generate 12 random numbers between 1 and 100. Sort the list of numbers in ascending order and print it out. Sort the list of numbers in descending order and print it out. Calculate the average for the group and print it out."
      ]
    },
    {
      "cell_type": "code",
      "execution_count": null,
      "metadata": {
        "colab": {
          "base_uri": "https://localhost:8080/"
        },
        "id": "5QX6bJjGWXY9",
        "outputId": "50b20e8d-26c0-453b-dd19-77e637c8730f"
      },
      "outputs": [
        {
          "output_type": "stream",
          "name": "stdout",
          "text": [
            "The Ascending order of the list is  [6, 14, 19, 39, 46, 46, 75, 76, 78, 80, 81, 98]\n",
            "The Descending order of the list is  [98, 81, 80, 78, 76, 75, 46, 46, 39, 19, 14, 6]\n",
            "The average of the list is  54.833333333333336\n"
          ]
        }
      ],
      "source": [
        "# Your code here\n",
        "import random\n",
        "randomNumberList = []\n",
        "for i in range(0,12):\n",
        "  n = random.randrange(1,100)\n",
        "  randomNumberList.append(n)\n",
        "\n",
        "\n",
        "averageOfList = sum(randomNumberList)/len(randomNumberList)\n",
        "\n",
        "#The ascending order output of the random list is as below\n",
        "randomNumberList.sort()\n",
        "print(\"The Ascending order of the list is \", randomNumberList)\n",
        "randomNumberList.sort(reverse=True)\n",
        "\n",
        "#The descending order output of the random list is as below\n",
        "print(\"The Descending order of the list is \", randomNumberList)\n",
        "print(\"The average of the list is \",averageOfList)\n"
      ]
    },
    {
      "cell_type": "markdown",
      "metadata": {
        "id": "1F_PZdH9Sh49"
      },
      "source": [
        "# Question 2\n",
        "(25 points). Write a program that will do the following string formatting tasks:\n",
        "\n",
        "(1) Ask the user to enter two sentences.\n",
        "\n",
        "(2) Make each sentence into a list. Each element in the list should correspond to a word in the sentence. For example, if the sentence is \"Alas! Am I alive? This is my first python program\", the program should print out ['Alas, '!', 'Am', 'I', 'alive, '?', 'This', 'is', 'my', 'first', 'python', 'program'].\n",
        "\n",
        "(3) Compare the two sentences. Print out a list of words that occur in both sentences.\n",
        "\n",
        "(4) Remove any punctuation from the sentence and print it back out. It should remove at least the following characters, but it can remove more: period(“.”), comma (“,”), semicolon (“;”), and colon (“:”)\n",
        "\n",
        "(5) Count the number of vowels in the sentences. Print out each vowel and the number of times it appears in the sentences, such as: a:2, e:1, i:0, etc"
      ]
    },
    {
      "cell_type": "code",
      "execution_count": 25,
      "metadata": {
        "id": "Y0oOSlsOS0cq",
        "colab": {
          "base_uri": "https://localhost:8080/"
        },
        "outputId": "2615751f-af0e-474d-cdec-7a7b4c2695cb"
      },
      "outputs": [
        {
          "output_type": "stream",
          "name": "stdout",
          "text": [
            "Enter the first sentence: Abhivarma! Birru\n",
            "Enter the second sentence: Yadagiri? Birru\n",
            "Final String Abhivarma Birru\n",
            "Final String Yadagiri Birru\n",
            "Common list of words  ['Birru']\n",
            "Vowel DIctionary {'a': 4, 'e': 0, 'i': 5, 'o': 0, 'u': 2}\n"
          ]
        }
      ],
      "source": [
        "# Your code here\n",
        "sampleInput1 = input(\"Enter the first sentence: \")\n",
        "sampleInput2 = input(\"Enter the second sentence: \")\n",
        "\n",
        "#Convert the sentences into list\n",
        "sentence1List = sampleInput1.split(\" \")\n",
        "sentence2List = sampleInput2.split(\" \")\n",
        "\n",
        "commonListOfWords = [word for word in sentence1List if word in sentence2List]\n",
        "print(\"Common list of words \",commonListOfWords)\n",
        "\n",
        "punctuationMarks = \"?,!:;.\"\n",
        "stringWithoutPunctuation = \"\"\n",
        "string2WithoutPunctuation = \"\"\n",
        "\n",
        "sentence1List = []\n",
        "sentence2List = []\n",
        "for word in sampleInput1:\n",
        "  if word not in punctuationMarks:\n",
        "    if word != \" \":\n",
        "\n",
        "\n",
        "for word in sampleInput2:\n",
        "  if word not in punctuationMarks:\n",
        "    string2WithoutPunctuation+=word\n",
        "\n",
        "print(\"Final String\",stringWithoutPunctuation)\n",
        "print(\"Final String\",string2WithoutPunctuation)\n",
        "\n",
        "\n",
        "vowelCheck = 'aeiou' \n",
        "vowelDictionary = {}\n",
        "for character in vowelCheck:\n",
        "    vowelDictionary[character] = (stringWithoutPunctuation + string2WithoutPunctuation).count(character)\n",
        "print(\"Vowel DIctionary\",vowelDictionary)"
      ]
    },
    {
      "cell_type": "markdown",
      "metadata": {
        "id": "CmFoI4jDS9nx"
      },
      "source": [
        "# Question 3 \n",
        "\n",
        "(15 points). The formula that describes the volume V of a sphere with radius r is the following:\n",
        "\n",
        "$ V=\\frac{4}{3}\\ast\\ \\pi\\ast\\ r^3 $\n",
        "\n",
        "Write a program to calculate the value of V when r is in the range of 1–10. Output the result in the following format:\n",
        "\n",
        "\tr\tV\n",
        "\t1\t…\n",
        "\t2\t…\n",
        "\t3\t…\n"
      ]
    },
    {
      "cell_type": "code",
      "execution_count": null,
      "metadata": {
        "colab": {
          "base_uri": "https://localhost:8080/"
        },
        "id": "pEyqeioAT95b",
        "outputId": "91c42f37-562a-4571-af79-54adda25c3c9"
      },
      "outputs": [
        {
          "output_type": "stream",
          "name": "stdout",
          "text": [
            "r    V\n",
            "1   4.1887902047863905\n",
            "2   33.510321638291124\n",
            "3   113.09733552923254\n",
            "4   268.082573106329\n",
            "5   523.5987755982989\n",
            "6   904.7786842338603\n",
            "7   1436.7550402417319\n",
            "8   2144.660584850632\n",
            "9   3053.6280592892786\n",
            "10   4188.790204786391\n"
          ]
        }
      ],
      "source": [
        "# Your code here\n",
        "import math\n",
        "print(\"r    V\")\n",
        "volumeForI=[]\n",
        "for  i in range(1,11):\n",
        "    volume = (4/3)*math.pi*(i**3)\n",
        "    print(i,\" \",volume)\n"
      ]
    },
    {
      "cell_type": "markdown",
      "metadata": {
        "id": "z3tBE7E-Xn5X"
      },
      "source": [
        "# Question 4\n",
        "\n",
        "(40 points). In the field of Data Science, data is often formatted as a comma-delimited (CSV) file, where each line in a file corresponds to a field's value. Refer to Chapter 9 (p. 106) for more information on comma-delimited files. To answer this question, you will need to download the file [Assignment1_denton_housing.csv](https://raw.githubusercontent.com/unt-iialab/info5731-spring2022/main/assignments/Assignment1_denton_housing.csv) included with this assignment. The file [Assignment1_denton_housing.csv](https://raw.githubusercontent.com/unt-iialab/info5731-spring2022/main/assignments/Assignment1_denton_housing.csv) contains statistics about housing in the city of Denton from 2008 to 2014. Write a program to implement the following questions.\n",
        "\n",
        "(1) (10 pts) Calculate the difference in the number of Occupied Housing Units from year to year and print it. The difference must be calculated for the consecutive years such as 2008-2009, 2009-2010 etc. Finally, print the values in the ascending order.\n",
        "\n",
        "(2) (10 pts) For all the years, calculate the percentage of housing units which are vacant an occupied. Print the results in the following format:\n",
        "\n",
        "Year Vacant Housing Units Occupied Housing Units\n",
        "\n",
        "    2008  30%   70%                          \n",
        "\t2009 ----- -----\n",
        "\t2010 ----- -----\n",
        "    2011 ----- -----\n",
        "\t2012 ----- -----\n",
        "    2013 ----- -----\n",
        "\t2014 ----- -----\n",
        "  \n",
        "  \n",
        "\n",
        "(3) (10 pts) Calculate and print the valued and years in which the highest number of housing units were vacant and occupied. Print the results in the following format:  \n",
        "\n",
        "                              Year\tValue\n",
        "\tVacant Housing Units\t  -----   -----\n",
        "\tOccupied Housing Units\t-----   -----\n",
        "\n",
        "(4) (10 pts) Calculate the harmonic mean of the total housing units and print it out. You can find the information about harmonic mean here: https://ncalculators.com/statistics/harmonic-mean-calculator.htm"
      ]
    },
    {
      "cell_type": "code",
      "execution_count": null,
      "metadata": {
        "id": "lqGYuHBhcsRH"
      },
      "outputs": [],
      "source": [
        "# Your code here\n",
        "\n",
        "\n"
      ]
    }
  ],
  "metadata": {
    "colab": {
      "provenance": [],
      "include_colab_link": true
    },
    "kernelspec": {
      "display_name": "Python 3 (ipykernel)",
      "language": "python",
      "name": "python3"
    },
    "language_info": {
      "codemirror_mode": {
        "name": "ipython",
        "version": 3
      },
      "file_extension": ".py",
      "mimetype": "text/x-python",
      "name": "python",
      "nbconvert_exporter": "python",
      "pygments_lexer": "ipython3",
      "version": "3.9.12"
    }
  },
  "nbformat": 4,
  "nbformat_minor": 0
}