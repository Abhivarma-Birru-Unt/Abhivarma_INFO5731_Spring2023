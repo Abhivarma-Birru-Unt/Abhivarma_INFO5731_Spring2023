{
  "cells": [
    {
      "cell_type": "markdown",
      "metadata": {
        "id": "view-in-github",
        "colab_type": "text"
      },
      "source": [
        "<a href=\"https://colab.research.google.com/github/Abhivarma-Birru-Unt/Abhivarma_INFO5731_Spring2023/blob/main/INFO5731_Assignment_One_fall2022_Abhivarma.ipynb\" target=\"_parent\"><img src=\"https://colab.research.google.com/assets/colab-badge.svg\" alt=\"Open In Colab\"/></a>"
      ]
    },
    {
      "cell_type": "markdown",
      "metadata": {
        "id": "Ryk8D1Q4Wsrp"
      },
      "source": [
        "# **INFO5731 Assignment One**"
      ]
    },
    {
      "cell_type": "markdown",
      "metadata": {
        "id": "90_NR8c5XGWc"
      },
      "source": [
        "# Question 1\n",
        "\n",
        "(20 points). Write a Python program to generate 12 random numbers between 1 and 100. Sort the list of numbers in ascending order and print it out. Sort the list of numbers in descending order and print it out. Calculate the average for the group and print it out."
      ]
    },
    {
      "cell_type": "code",
      "execution_count": null,
      "metadata": {
        "colab": {
          "base_uri": "https://localhost:8080/"
        },
        "id": "5QX6bJjGWXY9",
        "outputId": "50b20e8d-26c0-453b-dd19-77e637c8730f"
      },
      "outputs": [
        {
          "output_type": "stream",
          "name": "stdout",
          "text": [
            "The Ascending order of the list is  [6, 14, 19, 39, 46, 46, 75, 76, 78, 80, 81, 98]\n",
            "The Descending order of the list is  [98, 81, 80, 78, 76, 75, 46, 46, 39, 19, 14, 6]\n",
            "The average of the list is  54.833333333333336\n"
          ]
        }
      ],
      "source": [
        "# Your code here\n",
        "import random\n",
        "randomNumberList = []\n",
        "for i in range(0,12):\n",
        "  n = random.randrange(1,100)\n",
        "  randomNumberList.append(n)\n",
        "\n",
        "\n",
        "averageOfList = sum(randomNumberList)/len(randomNumberList)\n",
        "\n",
        "#The ascending order output of the random list is as below\n",
        "randomNumberList.sort()\n",
        "print(\"The Ascending order of the list is \", randomNumberList)\n",
        "randomNumberList.sort(reverse=True)\n",
        "\n",
        "#The descending order output of the random list is as below\n",
        "print(\"The Descending order of the list is \", randomNumberList)\n",
        "print(\"The average of the list is \",averageOfList)\n"
      ]
    },
    {
      "cell_type": "markdown",
      "metadata": {
        "id": "1F_PZdH9Sh49"
      },
      "source": [
        "# Question 2\n",
        "(25 points). Write a program that will do the following string formatting tasks:\n",
        "\n",
        "(1) Ask the user to enter two sentences.\n",
        "\n",
        "(2) Make each sentence into a list. Each element in the list should correspond to a word in the sentence. For example, if the sentence is \"Alas! Am I alive? This is my first python program\", the program should print out ['Alas, '!', 'Am', 'I', 'alive, '?', 'This', 'is', 'my', 'first', 'python', 'program'].\n",
        "\n",
        "(3) Compare the two sentences. Print out a list of words that occur in both sentences.\n",
        "\n",
        "(4) Remove any punctuation from the sentence and print it back out. It should remove at least the following characters, but it can remove more: period(“.”), comma (“,”), semicolon (“;”), and colon (“:”)\n",
        "\n",
        "(5) Count the number of vowels in the sentences. Print out each vowel and the number of times it appears in the sentences, such as: a:2, e:1, i:0, etc"
      ]
    },
    {
      "cell_type": "code",
      "execution_count": 26,
      "metadata": {
        "id": "Y0oOSlsOS0cq",
        "colab": {
          "base_uri": "https://localhost:8080/",
          "height": 391
        },
        "outputId": "6a3eeb1b-9b60-4fbc-a906-881b2db9b795"
      },
      "outputs": [
        {
          "name": "stdout",
          "output_type": "stream",
          "text": [
            "Enter the first sentence: ALas! am i alive\n",
            "Enter the second sentence: are you serious?\n"
          ]
        },
        {
          "output_type": "error",
          "ename": "KeyboardInterrupt",
          "evalue": "ignored",
          "traceback": [
            "\u001b[0;31m---------------------------------------------------------------------------\u001b[0m",
            "\u001b[0;31mKeyboardInterrupt\u001b[0m                         Traceback (most recent call last)",
            "\u001b[0;32m<ipython-input-26-056a3835a2bb>\u001b[0m in \u001b[0;36m<module>\u001b[0;34m\u001b[0m\n\u001b[1;32m     51\u001b[0m     \u001b[0;32mreturn\u001b[0m \u001b[0mvowelDictionary\u001b[0m\u001b[0;34m\u001b[0m\u001b[0;34m\u001b[0m\u001b[0m\n\u001b[1;32m     52\u001b[0m \u001b[0;34m\u001b[0m\u001b[0m\n\u001b[0;32m---> 53\u001b[0;31m \u001b[0mlistOfWordOfSentence1\u001b[0m \u001b[0;34m=\u001b[0m \u001b[0mgetList_of_Word\u001b[0m\u001b[0;34m(\u001b[0m\u001b[0msampleInput1\u001b[0m\u001b[0;34m)\u001b[0m\u001b[0;34m\u001b[0m\u001b[0;34m\u001b[0m\u001b[0m\n\u001b[0m\u001b[1;32m     54\u001b[0m \u001b[0mlistOfWordOfSentence2\u001b[0m \u001b[0;34m=\u001b[0m  \u001b[0mgetList_of_Word\u001b[0m\u001b[0;34m(\u001b[0m\u001b[0msampleInput2\u001b[0m\u001b[0;34m)\u001b[0m\u001b[0;34m\u001b[0m\u001b[0;34m\u001b[0m\u001b[0m\n\u001b[1;32m     55\u001b[0m \u001b[0;34m\u001b[0m\u001b[0m\n",
            "\u001b[0;32m<ipython-input-26-056a3835a2bb>\u001b[0m in \u001b[0;36mgetList_of_Word\u001b[0;34m(input)\u001b[0m\n\u001b[1;32m     24\u001b[0m       \u001b[0mlistOfWords\u001b[0m\u001b[0;34m.\u001b[0m\u001b[0mappend\u001b[0m\u001b[0;34m(\u001b[0m\u001b[0msentence\u001b[0m\u001b[0;34m)\u001b[0m\u001b[0;34m\u001b[0m\u001b[0;34m\u001b[0m\u001b[0m\n\u001b[1;32m     25\u001b[0m       \u001b[0mindex\u001b[0m\u001b[0;34m+=\u001b[0m\u001b[0;36m1\u001b[0m\u001b[0;34m\u001b[0m\u001b[0;34m\u001b[0m\u001b[0m\n\u001b[0;32m---> 26\u001b[0;31m     \u001b[0;32melif\u001b[0m \u001b[0minput\u001b[0m\u001b[0;34m[\u001b[0m\u001b[0mindex\u001b[0m\u001b[0;34m]\u001b[0m \u001b[0;34m==\u001b[0m \u001b[0mlen\u001b[0m\u001b[0;34m(\u001b[0m\u001b[0minput\u001b[0m\u001b[0;34m)\u001b[0m\u001b[0;34m:\u001b[0m\u001b[0;34m\u001b[0m\u001b[0;34m\u001b[0m\u001b[0m\n\u001b[0m\u001b[1;32m     27\u001b[0m       \u001b[0mlistOfWords\u001b[0m\u001b[0;34m.\u001b[0m\u001b[0mappend\u001b[0m\u001b[0;34m(\u001b[0m\u001b[0msentence\u001b[0m\u001b[0;34m)\u001b[0m\u001b[0;34m\u001b[0m\u001b[0;34m\u001b[0m\u001b[0m\n\u001b[1;32m     28\u001b[0m \u001b[0;34m\u001b[0m\u001b[0m\n",
            "\u001b[0;31mKeyboardInterrupt\u001b[0m: "
          ]
        }
      ],
      "source": [
        "#Point 1\n",
        "#Here we accept the input from the user\n",
        "sampleInput1 = input(\"Enter the first sentence: \")\n",
        "sampleInput2 = input(\"Enter the second sentence: \")\n",
        "\n",
        "punctuationMarks = \"?,!:;.\"\n",
        "\n",
        "\n",
        "#This function converts the user input into list of words as per the requirement\n",
        "def  getList_of_Word(input):\n",
        "  listOfWords= []\n",
        "  sentence = \"\"\n",
        "  index = 0\n",
        "  while index != len(input):\n",
        "    if input[index] != \" \" and input[index] not  in punctuationMarks:\n",
        "        sentence+=input[index]\n",
        "        index+=1\n",
        "    elif input[index] in punctuationMarks:\n",
        "      listOfWords.append(sentence)\n",
        "      listOfWords.append(input[index])\n",
        "      sentence = \"\"\n",
        "      index+=1\n",
        "    elif input[index] == \" \"  :\n",
        "      listOfWords.append(sentence)\n",
        "      index+=1\n",
        "    elif input[index] == len(input):\n",
        "      listOfWords.append(sentence)\n",
        "\n",
        "  return listOfWords  \n",
        "\n",
        "#This function removes the punctuations from the user input and converts them into sentences without punctuation\n",
        "def remove_punctuations(input):\n",
        "  stringWithoutPunctuation = \"\"\n",
        "  for word in input:\n",
        "   if word not in punctuationMarks:\n",
        "    stringWithoutPunctuation+=word\n",
        "  return stringWithoutPunctuation\n",
        "\n",
        "\n",
        "#This function finds out the vowels and their count in the sentences\n",
        "def find_vowels(input):\n",
        "  vowelCheck = 'aeiou' \n",
        "  vowelDictionary = {}\n",
        "  for character in vowelCheck:\n",
        "      vowelDictionary[character] = (input).count(character)\n",
        "  if len(vowelDictionary) != 0:\n",
        "    vowelDictList = sorted(vowelDictionary.items(), key=lambda x:x[1], reverse=True)\n",
        "    vowelDictFinal = dict(vowelDictList)\n",
        "    return vowelDictFinal\n",
        "  else:\n",
        "    return vowelDictionary\n",
        "\n",
        "listOfWordOfSentence1 = getList_of_Word(sampleInput1)\n",
        "listOfWordOfSentence2 =  getList_of_Word(sampleInput2)\n",
        "\n",
        "#Point 2\n",
        "#Here we print the list of words of both the sentences\n",
        "print(\"list of words in sentence 1\",listOfWordOfSentence1)\n",
        "print(\"list of words in sentence 2 \",listOfWordOfSentence2)\n",
        "\n",
        "\n",
        "\n",
        "\n",
        "string1WithoutPunctuation = remove_punctuations(sampleInput1)\n",
        "string2WithoutPunctuation = remove_punctuations(sampleInput2)\n",
        "\n",
        "#Point 3\n",
        "#Here we find out the common words in both the sentences\n",
        "commonListOfWords = [word for word in string1WithoutPunctuation if word in string2WithoutPunctuation]\n",
        "print(\"Common list of words \",commonListOfWords)\n",
        "\n",
        "#Point 4\n",
        "#Here we print the final sentences without punctuation of both the inputs\n",
        "print(\"Final String of Sentence 1 without Punctuation\",string1WithoutPunctuation)\n",
        "print(\"Final String of Sentence 2 without Punctuation\",string2WithoutPunctuation)\n",
        "\n",
        "vowelsOfSentence1 = find_vowels(sampleInput1)\n",
        "vowelsOfSentence2 = find_vowels(sampleInput2)\n",
        "\n",
        "\n",
        "#Point 5\n",
        "#Here We print the vowels and their count of both the sentences\n",
        "print(\"The vowel Dictionary of Sentence 1\",vowelsOfSentence1)\n",
        "print(\"The vowel Dictionary of Sentence 2\",vowelsOfSentence2)\n"
      ]
    },
    {
      "cell_type": "code",
      "source": [],
      "metadata": {
        "id": "6QWql3q46Uyc"
      },
      "execution_count": null,
      "outputs": []
    },
    {
      "cell_type": "markdown",
      "metadata": {
        "id": "CmFoI4jDS9nx"
      },
      "source": [
        "# Question 3 \n",
        "\n",
        "(15 points). The formula that describes the volume V of a sphere with radius r is the following:\n",
        "\n",
        "$ V=\\frac{4}{3}\\ast\\ \\pi\\ast\\ r^3 $\n",
        "\n",
        "Write a program to calculate the value of V when r is in the range of 1–10. Output the result in the following format:\n",
        "\n",
        "\tr\tV\n",
        "\t1\t…\n",
        "\t2\t…\n",
        "\t3\t…\n"
      ]
    },
    {
      "cell_type": "code",
      "execution_count": null,
      "metadata": {
        "colab": {
          "base_uri": "https://localhost:8080/"
        },
        "id": "pEyqeioAT95b",
        "outputId": "91c42f37-562a-4571-af79-54adda25c3c9"
      },
      "outputs": [
        {
          "output_type": "stream",
          "name": "stdout",
          "text": [
            "r    V\n",
            "1   4.1887902047863905\n",
            "2   33.510321638291124\n",
            "3   113.09733552923254\n",
            "4   268.082573106329\n",
            "5   523.5987755982989\n",
            "6   904.7786842338603\n",
            "7   1436.7550402417319\n",
            "8   2144.660584850632\n",
            "9   3053.6280592892786\n",
            "10   4188.790204786391\n"
          ]
        }
      ],
      "source": [
        "# Your code here\n",
        "import math\n",
        "print(\"r    V\")\n",
        "volumeForI=[]\n",
        "for  i in range(1,11):\n",
        "    volume = (4/3)*math.pi*(i**3)\n",
        "    print(i,\" \",volume)\n"
      ]
    },
    {
      "cell_type": "markdown",
      "metadata": {
        "id": "z3tBE7E-Xn5X"
      },
      "source": [
        "# Question 4\n",
        "\n",
        "(40 points). In the field of Data Science, data is often formatted as a comma-delimited (CSV) file, where each line in a file corresponds to a field's value. Refer to Chapter 9 (p. 106) for more information on comma-delimited files. To answer this question, you will need to download the file [Assignment1_denton_housing.csv](https://raw.githubusercontent.com/unt-iialab/info5731-spring2022/main/assignments/Assignment1_denton_housing.csv) included with this assignment. The file [Assignment1_denton_housing.csv](https://raw.githubusercontent.com/unt-iialab/info5731-spring2022/main/assignments/Assignment1_denton_housing.csv) contains statistics about housing in the city of Denton from 2008 to 2014. Write a program to implement the following questions.\n",
        "\n",
        "(1) (10 pts) Calculate the difference in the number of Occupied Housing Units from year to year and print it. The difference must be calculated for the consecutive years such as 2008-2009, 2009-2010 etc. Finally, print the values in the ascending order.\n",
        "\n",
        "(2) (10 pts) For all the years, calculate the percentage of housing units which are vacant an occupied. Print the results in the following format:\n",
        "\n",
        "Year Vacant Housing Units Occupied Housing Units\n",
        "\n",
        "    2008  30%   70%                          \n",
        "\t2009 ----- -----\n",
        "\t2010 ----- -----\n",
        "    2011 ----- -----\n",
        "\t2012 ----- -----\n",
        "    2013 ----- -----\n",
        "\t2014 ----- -----\n",
        "  \n",
        "  \n",
        "\n",
        "(3) (10 pts) Calculate and print the valued and years in which the highest number of housing units were vacant and occupied. Print the results in the following format:  \n",
        "\n",
        "                              Year\tValue\n",
        "\tVacant Housing Units\t  -----   -----\n",
        "\tOccupied Housing Units\t-----   -----\n",
        "\n",
        "(4) (10 pts) Calculate the harmonic mean of the total housing units and print it out. You can find the information about harmonic mean here: https://ncalculators.com/statistics/harmonic-mean-calculator.htm"
      ]
    },
    {
      "cell_type": "code",
      "execution_count": null,
      "metadata": {
        "id": "lqGYuHBhcsRH"
      },
      "outputs": [],
      "source": [
        "# Your code here\n",
        "\n",
        "\n"
      ]
    }
  ],
  "metadata": {
    "colab": {
      "provenance": [],
      "include_colab_link": true
    },
    "kernelspec": {
      "display_name": "Python 3 (ipykernel)",
      "language": "python",
      "name": "python3"
    },
    "language_info": {
      "codemirror_mode": {
        "name": "ipython",
        "version": 3
      },
      "file_extension": ".py",
      "mimetype": "text/x-python",
      "name": "python",
      "nbconvert_exporter": "python",
      "pygments_lexer": "ipython3",
      "version": "3.9.12"
    }
  },
  "nbformat": 4,
  "nbformat_minor": 0
}