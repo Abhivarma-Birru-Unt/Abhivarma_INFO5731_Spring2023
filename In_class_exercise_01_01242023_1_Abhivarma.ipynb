{
  "cells": [
    {
      "cell_type": "markdown",
      "metadata": {
        "id": "view-in-github",
        "colab_type": "text"
      },
      "source": [
        "<a href=\"https://colab.research.google.com/github/Abhivarma-Birru-Unt/Abhivarma_INFO5731_Spring2023/blob/main/In_class_exercise_01_01242023_1_Abhivarma.ipynb\" target=\"_parent\"><img src=\"https://colab.research.google.com/assets/colab-badge.svg\" alt=\"Open In Colab\"/></a>"
      ]
    },
    {
      "cell_type": "markdown",
      "metadata": {
        "id": "DymRJbxDBCnf"
      },
      "source": [
        "# **The first In-class-exercise (01/24/2023, 40 points in total)**"
      ]
    },
    {
      "cell_type": "markdown",
      "metadata": {
        "id": "03jb4GZsBkBS"
      },
      "source": [
        "(1) Write a Python program to calculate the length of a string. (4 points)"
      ]
    },
    {
      "cell_type": "code",
      "execution_count": 1,
      "metadata": {
        "colab": {
          "base_uri": "https://localhost:8080/"
        },
        "id": "YaGLbSHHB8Ej",
        "outputId": "6162bd43-f293-4b51-81b9-be4cadc5943b"
      },
      "outputs": [
        {
          "output_type": "stream",
          "name": "stdout",
          "text": [
            "enter the string for which you want to know the length: computational methods\n",
            "                                                                                                    \n",
            "finding the length of the string using the basic python code with for loop\n",
            "The length of the string is:  21\n",
            "----------------------------------------------------------------------------------------------------\n",
            "                                                                                                    \n",
            "----------------------------------------------------------------------------------------------------\n",
            "finding the length of the string using python library len() function\n",
            "the length of the string using len() function is:  21\n",
            "----------------------------------------------------------------------------------------------------\n"
          ]
        }
      ],
      "source": [
        "testString = input(\"enter the string for which you want to know the length: \")\n",
        "\n",
        "print(\" \"*100)\n",
        "\n",
        "# Here we find the length of the string by using for loop\n",
        "print(\"finding the length of the string using the basic python code with for loop\")\n",
        "length = 0\n",
        "for word in testString:\n",
        "  length = length +1 \n",
        "print(\"The length of the string is: \",length)\n",
        "\n",
        "print(\"-\"*100)\n",
        "\n",
        "print(\" \"*100)\n",
        "\n",
        "print(\"-\"*100)\n",
        "\n",
        "# Here we find the length of the string using len() function available in python\n",
        "\n",
        "print(\"finding the length of the string using python library len() function\")\n",
        "\n",
        "print(\"the length of the string using len() function is: \",len(testString))\n",
        "\n",
        "print(\"-\"*100)\n"
      ]
    },
    {
      "cell_type": "markdown",
      "metadata": {
        "id": "jJDe71iLB616"
      },
      "source": [
        "(2) Write a Python program to count the number of characters in a string. (4 points)\n",
        "\n",
        "Sample String : 'google.com‘, \n",
        "\n",
        "Expected Result : {'o': 3, 'g': 2, '.': 1, 'e': 1, 'l': 1, 'm': 1, 'c': 1}"
      ]
    },
    {
      "cell_type": "code",
      "execution_count": 2,
      "metadata": {
        "colab": {
          "base_uri": "https://localhost:8080/"
        },
        "id": "MtKskTzbCLaU",
        "outputId": "48bfe617-49f9-41a9-863e-69a8742d94ad"
      },
      "outputs": [
        {
          "output_type": "stream",
          "name": "stdout",
          "text": [
            "enter the sample string: Facebook.com\n",
            "----------------------------------------------------------------------------------------------------\n",
            "finding the length of the string using basic python code\n",
            "{'o': 3, 'c': 2, 'F': 1, 'a': 1, 'e': 1, 'b': 1, 'k': 1, '.': 1, 'm': 1}\n",
            "----------------------------------------------------------------------------------------------------\n",
            "                                                                                                    \n",
            "finding the count of characters of the string using python library count() function\n",
            "{'o': 3, 'c': 2, 'F': 1, 'a': 1, 'e': 1, 'b': 1, 'k': 1, '.': 1, 'm': 1}\n",
            "----------------------------------------------------------------------------------------------------\n"
          ]
        }
      ],
      "source": [
        "# write your answer here\n",
        "\n",
        "testString2 = input(\"enter the sample string: \")\n",
        "\n",
        "print(\"-\"*100)\n",
        "# Here we find the count of the characters using regular python code without library functions\n",
        "\n",
        "stringDictionary = {}\n",
        "for character in testString2:\n",
        "    if character in stringDictionary.keys():\n",
        "      stringDictionary[character]+=1\n",
        "    else:\n",
        "      stringDictionary[character]=1\n",
        "\n",
        "\n",
        "sorted_stringDictionary1_list = sorted(stringDictionary.items(), key=lambda x:x[1], reverse=True)\n",
        "sorted_stringDictionary = dict(sorted_stringDictionary1_list)\n",
        "\n",
        "print(\"finding the length of the string using basic python code\")\n",
        "\n",
        "print(sorted_stringDictionary)\n",
        "\n",
        "print(\"-\"*100)\n",
        "\n",
        "print(\" \"*100)\n",
        "\n",
        "\n",
        "# Here we find the count of the characters using count() function \n",
        "\n",
        "stringDictionary2 = {}\n",
        "for character in testString2:\n",
        "    stringDictionary2[character]=testString2.count(character)\n",
        "\n",
        "\n",
        "sorted_stringDictionary2_list = sorted(stringDictionary.items(), key=lambda x:x[1], reverse=True)\n",
        "sorted_stringDictionary2 = dict(sorted_stringDictionary2_list)\n",
        "\n",
        "print(\"finding the count of characters of the string using python library count() function\")\n",
        "\n",
        "print(sorted_stringDictionary2)\n",
        "\n",
        "print(\"-\"*100)"
      ]
    },
    {
      "cell_type": "markdown",
      "metadata": {
        "id": "55W9AMdXCSpV"
      },
      "source": [
        "(3) Write a Python program to sum all the items in a list. (4 points)"
      ]
    },
    {
      "cell_type": "code",
      "execution_count": 5,
      "metadata": {
        "id": "I57NXsauCec2",
        "colab": {
          "base_uri": "https://localhost:8080/"
        },
        "outputId": "851363e5-b28e-4d8e-9b0d-51dc0fe921aa"
      },
      "outputs": [
        {
          "output_type": "stream",
          "name": "stdout",
          "text": [
            "enter the number of elements you want to insert: 10\n",
            "----------------------------------------------------------------------------------------------------\n",
            "                                                                                                    \n",
            "Enter the 1 value: 11\n",
            "Enter the 2 value: 22\n",
            "Enter the 3 value: 33\n",
            "Enter the 4 value: 44\n",
            "Enter the 5 value: 55\n",
            "Enter the 6 value: 66\n",
            "Enter the 7 value: 77\n",
            "Enter the 8 value: 88\n",
            "Enter the 9 value: 99\n",
            "Enter the 10 value: 100\n",
            "----------------------------------------------------------------------------------------------------\n",
            "                                                                                                    \n",
            "Here we find the sum of all items using basic python code\n",
            "The sum of all items in the list are:  595\n",
            "----------------------------------------------------------------------------------------------------\n",
            "                                                                                                    \n",
            "Here we find the sum of all items using sum() library function\n",
            "sum of all list Items is  595\n"
          ]
        }
      ],
      "source": [
        "# write your answer here\n",
        "\n",
        "#Here we enter the no of elements into the list\n",
        "noOfListElements =int(input(\"enter the number of elements you want to insert: \"))\n",
        "listOfItems = []\n",
        "\n",
        "print(\"-\"*100)\n",
        "\n",
        "print(\" \"*100)\n",
        "\n",
        "#Here we enter the values into the list\n",
        "for inputElementIndex in range(0,noOfListElements):\n",
        "  element = int(input(f'Enter the {inputElementIndex+1} value: '))\n",
        "  listOfItems.append(element)\n",
        "\n",
        "#Here we find the sum of elements in the list\n",
        "sumOfListItems = 0\n",
        "for item in listOfItems:\n",
        "    sumOfListItems+=item\n",
        "\n",
        "print(\"-\"*100)\n",
        "\n",
        "print(\" \"*100)\n",
        "\n",
        "#The total sum of all items of list\n",
        "print(\"Here we find the sum of all items using basic python code\")\n",
        "\n",
        "print(\"The sum of all items in the list are: \",sumOfListItems)\n",
        "\n",
        "print(\"-\"*100)\n",
        "\n",
        "print(\" \"*100)\n",
        "#Here we find the sum of all the items of the list using sum() function\n",
        "\n",
        "sumOfListItems2 = sum(listOfItems)\n",
        "print(\"Here we find the sum of all items using sum() library function\")\n",
        "\n",
        "print(\"sum of all list Items is \",sumOfListItems2)"
      ]
    },
    {
      "cell_type": "markdown",
      "metadata": {
        "id": "4ulBZ6yhCi9F"
      },
      "source": [
        "(4) Write a Python program to get a string from a given string where all occurrences of its first char have been changed to '\\$', except the first char itself. (4 points)\n",
        "\n",
        "Sample String : 'restart‘, \n",
        "\n",
        "Expected Result : 'resta\\$t'"
      ]
    },
    {
      "cell_type": "code",
      "execution_count": 6,
      "metadata": {
        "id": "Fj0XhwbBCw2o",
        "colab": {
          "base_uri": "https://localhost:8080/"
        },
        "outputId": "fb966c44-dae0-4c76-a0a1-6b066e88f5af"
      },
      "outputs": [
        {
          "output_type": "stream",
          "name": "stdout",
          "text": [
            "Enter the sample string: rutherford\n",
            "The new String is:  ruthe$fo$d\n"
          ]
        }
      ],
      "source": [
        "# write your answer here\n",
        "def character_replacement(stringInput):\n",
        "    #Convert the string into array\n",
        "    sampleStringArray = [char for char in stringInput]\n",
        "\n",
        "    #store the first character of the string into 'firstCharacterOfString' variable\n",
        "    firstCharacterOfString = sampleStringArray[0]\n",
        "\n",
        "    #Loop through the sampleStringArray to find the occurences of the first character\n",
        "    for index,character in enumerate(sampleStringArray[1:]):\n",
        "      if character == firstCharacterOfString:\n",
        "        #Replace the first character occurences with '$' character\n",
        "        sampleStringArray[index+1] = '$'\n",
        "\n",
        "    #join the 'sampleStringArray' and assign the value to 'outputForQues4' Variable\n",
        "    outputForQues4=\"\".join(sampleStringArray)\n",
        "    return outputForQues4\n",
        "\n",
        "sampleStringforQues4=input(\"Enter the sample string: \")\n",
        "output = character_replacement(sampleStringforQues4)\n",
        "print(\"The new String is: \",output)"
      ]
    },
    {
      "cell_type": "markdown",
      "metadata": {
        "id": "_bIP7s1MCzue"
      },
      "source": [
        "(5) Write a program with python which could accept two parameter a and b to calculate and output the result of S, where \n",
        "\n",
        "$\\ S=3.14*(1+a/b)^3$ (4 points)\n",
        "\n"
      ]
    },
    {
      "cell_type": "code",
      "execution_count": 7,
      "metadata": {
        "id": "w79QilHXD3Mg",
        "colab": {
          "base_uri": "https://localhost:8080/"
        },
        "outputId": "060f90fd-6834-43a5-fa02-1cfd3d4ed147"
      },
      "outputs": [
        {
          "output_type": "stream",
          "name": "stdout",
          "text": [
            "enter the value of a: 567\n",
            "enter the value of b: 891\n",
            "----------------------------------------------------------------------------------------------------\n",
            "                                                                                                    \n",
            "the value of S using basic python code:  13.758437265214122\n",
            "----------------------------------------------------------------------------------------------------\n",
            "                                                                                                    \n",
            "the value of S using pow() function:  13.758437265214122\n"
          ]
        }
      ],
      "source": [
        "# write your answer here\n",
        "def find_S_value(a,b):\n",
        "  #here we calculate S value using basic python code\n",
        "  \n",
        "  S = 3.14*((1+a/b)**3)\n",
        "  print(\"the value of S using basic python code: \",S)\n",
        "\n",
        "  print(\"-\"*100)\n",
        "  print(\" \"*100)\n",
        "\n",
        "  #Here we calculate S value using pow() library function\n",
        "  S1 = 3.14*pow((1+a/b),3)\n",
        "  print(\"the value of S using pow() function: \",S1)\n",
        "\n",
        "#Here we prompt the user to enter a and b values\n",
        "a = int(input(\"enter the value of a: \"))\n",
        "b = int(input(\"enter the value of b: \"))\n",
        "\n",
        "print(\"-\"*100)\n",
        "print(\" \"*100)\n",
        "\n",
        "find_S_value(a,b)"
      ]
    },
    {
      "cell_type": "markdown",
      "metadata": {
        "id": "xCa2bK9aD4Q3"
      },
      "source": [
        "(6) Write a Python program to concatenate following dictionaries to create a new one. (4 points)\n",
        "\n",
        "Sample Dictionary : dic1={1:10, 2:20}, dic2={3:30, 4:40}, dic3={5:50,6:60}, \n",
        "\n",
        "Expected Result : {1: 10, 2: 20, 3: 30, 4: 40, 5: 50, 6: 60}\n"
      ]
    },
    {
      "cell_type": "code",
      "execution_count": 8,
      "metadata": {
        "id": "_z4aLqAbEET1",
        "colab": {
          "base_uri": "https://localhost:8080/"
        },
        "outputId": "7dbb4380-4415-41b0-ae21-cc79774ee8e5"
      },
      "outputs": [
        {
          "output_type": "stream",
          "name": "stdout",
          "text": [
            "The concatenated dictionary using dictionary comprehension is  {1: 32, 2: 41, 3: 90, 4: 76, 5: 22, 6: 123, 7: 91, 8: 33, 9: 39, 10: 66, 11: 99, 12: 42}\n",
            "--------------------------------------------------------------------------------------------------------------------------------------------------------------------------------------------------------------------------------------------------------------------------------------------------------------------------------------------------------------------------------------------------------------------------------------------------------------------------------------------------------------------\n",
            "                                                                                                                                                                                                                                                                                                                                                                                                                                                                                                                    \n",
            "the concatenated dictionary using update() method is  {1: 32, 2: 41, 3: 90, 4: 76, 5: 22, 6: 123, 7: 91, 8: 33, 9: 39, 10: 66, 11: 99, 12: 42}\n"
          ]
        }
      ],
      "source": [
        "# write your answer here\n",
        "dictionary1 = {1:32,2:41,3:90,4:76}\n",
        "dictionary2 = {5:22,6:123,7:91,8:33}\n",
        "dictionary3 = {9:39,10:66,11:99,12:42}\n",
        "\n",
        "#Here we concatenate the dictionary using the dictionary comprehension method to concatenate 3 dictionaries\n",
        "concatenatedDictionary ={key:value for dictionary in (dictionary1,dictionary2,dictionary3) for key,value in dictionary.items()}\n",
        "print(\"The concatenated dictionary using dictionary comprehension is \",concatenatedDictionary)\n",
        "\n",
        "\n",
        "print(\"-\"*500)\n",
        "print(\" \"*500)\n",
        "\n",
        "\n",
        "#Here we concatenate the dictionary using the dictionary using update method to concatenate 3 dictionaries\n",
        "concatenatedDictionary2 = {}\n",
        "for item in (dictionary1,dictionary2,dictionary3):\n",
        "  concatenatedDictionary2.update(item)\n",
        "\n",
        "print(\"the concatenated dictionary using update() method is \",concatenatedDictionary2)"
      ]
    },
    {
      "cell_type": "markdown",
      "metadata": {
        "id": "0v48Vqa7FrQh"
      },
      "source": [
        "(7) Write a Python program to check whether an element exists within a tuple. (4 points)"
      ]
    },
    {
      "cell_type": "code",
      "execution_count": 9,
      "metadata": {
        "id": "7WEmgq-DF2P1",
        "colab": {
          "base_uri": "https://localhost:8080/"
        },
        "outputId": "d34791ae-8018-4c48-f7f1-23e44d95c34b"
      },
      "outputs": [
        {
          "output_type": "stream",
          "name": "stdout",
          "text": [
            "Enter the element to check: 4\n",
            "The Element is found\n"
          ]
        }
      ],
      "source": [
        "# write your answer here\n",
        "sampleTuple = (1,3,4,6,3)\n",
        "\n",
        "#Enter the element we want to check in the tuple\n",
        "elementToCheck = int(input(\"Enter the element to check: \"))\n",
        "flag = 0\n",
        "for element in sampleTuple:\n",
        "  if(element == elementToCheck):\n",
        "    flag = 1\n",
        "    #Here we use break statement to stop the loop since the element is found out in the tuple\n",
        "    break\n",
        "  else:\n",
        "    continue\n",
        "\n",
        "if flag == 1:\n",
        "  print(\"The Element is found\")\n",
        "else:\n",
        "  print(\"The Element is not Found\")\n"
      ]
    },
    {
      "cell_type": "markdown",
      "metadata": {
        "id": "vD5PYLMuGga_"
      },
      "source": [
        "(8) Write a Python program to find maximum and the minimum value in a set. (4 points)"
      ]
    },
    {
      "cell_type": "code",
      "execution_count": 10,
      "metadata": {
        "id": "t0D5kdJUGjjw",
        "colab": {
          "base_uri": "https://localhost:8080/"
        },
        "outputId": "db8f69c8-6ce4-4469-f125-565e687b88f2"
      },
      "outputs": [
        {
          "output_type": "stream",
          "name": "stdout",
          "text": [
            "The minimum value of set using basic python code is  0.4\n",
            "The Maximum value of set using basic python code is  1003\n",
            "----------------------------------------------------------------------------------------------------\n",
            "                                                                                                    \n",
            "The minimum value of set using min() function is  0.4\n",
            "The Maximum value of set using max() function is  1003\n"
          ]
        }
      ],
      "source": [
        "# write your answer here\n",
        "\n",
        "# Here is the function to check maximum and minimum value using basic python code\n",
        "def max_and_min_of_Set(setToCheck):\n",
        "  \n",
        "  #Convert the set into a list\n",
        "  listOfSetElements = list(setToCheck)\n",
        "\n",
        "  maximum=minimum=listOfSetElements[0]\n",
        "\n",
        "  for element in listOfSetElements:\n",
        "    if element<minimum:\n",
        "      minimum = element\n",
        "    elif element > maximum:\n",
        "      maximum = element\n",
        "  \n",
        "  return(minimum,maximum)\n",
        "\n",
        "#The sample set with values is given below\n",
        "sampleSet = {1,3,5,99,1003,436,464,66,3,1,0.4}\n",
        "minimumValueOfset,maximumValueOfSet = max_and_min_of_Set(sampleSet)\n",
        "print(\"The minimum value of set using basic python code is \",minimumValueOfset)\n",
        "print(\"The Maximum value of set using basic python code is \", maximumValueOfSet)\n",
        "\n",
        "#Here is the code for finding minimum and maximum value of set using min() and max() python library functions\n",
        "print(\"-\"*100)\n",
        "print(\" \"*100)\n",
        "\n",
        "minimumValueOfSet1 = min(sampleSet)\n",
        "maximumValueOfSet1 = max(sampleSet)\n",
        "print(\"The minimum value of set using min() function is \",minimumValueOfSet1)\n",
        "print(\"The Maximum value of set using max() function is \", maximumValueOfSet1)"
      ]
    },
    {
      "cell_type": "markdown",
      "metadata": {
        "id": "uHkd-y5VhVWC"
      },
      "source": [
        "(9) Write a Python program to randomly divide the students in this class into six groups for term projects, each group should have at least 4 students but no more than 6 students (including 6). Here is the students list: (4 points)\n",
        "\n",
        "studnet_list = ['ja0964','sa1198','sb1357','vb0218','sc1229','kg0569','kg0470','sg1297','bg0320','fh0141','jl1252','sk1386',\n",
        "           'ak0956','sk1390','sk1458','sk1313','ak0934','vm0377','nm0618','sm1640','sm1907','gn0108','pr0353','dr0609','ms1500','aos0040','ds0814', 'av0659','nv0234','hy0232']"
      ]
    },
    {
      "cell_type": "code",
      "execution_count": 11,
      "metadata": {
        "id": "3iGbmcOBhTwy",
        "colab": {
          "base_uri": "https://localhost:8080/"
        },
        "outputId": "92fb858a-6f1b-41de-a3f2-9514e19c49e0"
      },
      "outputs": [
        {
          "output_type": "stream",
          "name": "stdout",
          "text": [
            "The complete group is:  [['sa1198', 'kg0569', 'hy0232', 'sk1458'], ['vm0377', 'kg0470', 'sc1229', 'jl1252'], ['dr0609', 'sk1313', 'sm1907', 'nm0618'], ['pr0353', 'sk1386', 'vb0218', 'sk1390'], ['sb1357', 'ms1500', 'sg1297', 'sm1640'], ['aos0040', 'ds0814', 'av0659', 'nv0234'], ['ak0956', 'ak0934', 'fh0141', 'ja0964']]\n",
            "The  1  group is:  ['sa1198', 'kg0569', 'hy0232', 'sk1458']\n",
            "The  2  group is:  ['vm0377', 'kg0470', 'sc1229', 'jl1252']\n",
            "The  3  group is:  ['dr0609', 'sk1313', 'sm1907', 'nm0618']\n",
            "The  4  group is:  ['pr0353', 'sk1386', 'vb0218', 'sk1390']\n",
            "The  5  group is:  ['sb1357', 'ms1500', 'sg1297', 'sm1640']\n",
            "The  6  group is:  ['aos0040', 'ds0814', 'av0659', 'nv0234']\n",
            "The  7  group is:  ['ak0956', 'ak0934', 'fh0141', 'ja0964']\n"
          ]
        }
      ],
      "source": [
        "# write your answer here\n",
        "import random\n",
        "from itertools import islice\n",
        "student_List = ['ja0964','sa1198','sb1357','vb0218','sc1229','kg0569',\n",
        "               'kg0470','sg1297','bg0320','fh0141','jl1252','sk1386', \n",
        "               'ak0956','sk1390','sk1458','sk1313','ak0934','vm0377',\n",
        "               'nm0618','sm1640','sm1907','gn0108','pr0353','dr0609',\n",
        "               'ms1500','aos0040','ds0814', 'av0659','nv0234','hy0232']\n",
        "group=[]\n",
        "\n",
        "#Here we get the random choice for the no of students in the group\n",
        "no_of_samples_choice = random.randint(4,6)\n",
        "\n",
        "#Here we decide the no of groups as per the no of students per group\n",
        "no_of_groups = int(len(student_List)/no_of_samples_choice)\n",
        "\n",
        "#Here we generate a random sample of students for a group\n",
        "for i in range(no_of_groups):\n",
        "  samples = random.sample(student_List,no_of_samples_choice)\n",
        "  group.append(samples)\n",
        "\n",
        "  #Here we remove the student ID's which have been already added to the groups\n",
        "  for id in samples:\n",
        "    student_List.remove(id)\n",
        "\n",
        "#Here is the the output of the problem statement\n",
        "print(\"The complete group is: \",group)\n",
        "for id,item in enumerate(group):\n",
        "  print(\"The \",id+1,\" group is: \",item)\n",
        "\n"
      ]
    },
    {
      "cell_type": "markdown",
      "metadata": {
        "id": "ECEMofOtco-d"
      },
      "source": [
        "(10) Write a Python program to find the duplicate elements in a given array of integers. Return -1 If there are no such elements. (4 points)"
      ]
    },
    {
      "cell_type": "code",
      "execution_count": 12,
      "metadata": {
        "id": "PBLAEpP2co-e",
        "colab": {
          "base_uri": "https://localhost:8080/"
        },
        "outputId": "e1dd2dc7-f1fc-40be-c10e-639fb1333e65"
      },
      "outputs": [
        {
          "output_type": "stream",
          "name": "stdout",
          "text": [
            "The output, when there are no duplicate elements in the list:  -1\n",
            "The output of the duplicate elements when there are duplicate elements in the array of intergers:  [1, 99, 5]\n"
          ]
        }
      ],
      "source": [
        "# write your answer here\n",
        "\n",
        "def find_duplicate_elemtents(listOfIntegers):\n",
        "  duplicateElementsSet = set()\n",
        "\n",
        "  #Here we iterate through the for loop and check for the count of each element in the array of integers\n",
        "  for element in listOfIntegers:\n",
        "    if listOfIntegers.count(element) > 1:\n",
        "        duplicateElementsSet.add(element)\n",
        "    else:\n",
        "      continue\n",
        "\n",
        "# if there are no duplicate elements we return -1 else, we return the list of elements which have duplicate elements in the list \n",
        "  if len(duplicateElementsSet) == 0:\n",
        "    return -1\n",
        "  else:\n",
        "    return list(duplicateElementsSet)\n",
        "\n",
        "sampleListForQues10 = [1,2,3,4,5,6,7,9]\n",
        "sampleListForQues10_2 = [1,1,1,5,5,5,99,99,99,3,4,5]\n",
        "duplicateElementsList = find_duplicate_elemtents(sampleListForQues10)\n",
        "duplicateElementsList_2 = find_duplicate_elemtents(sampleListForQues10_2)\n",
        "\n",
        "print(\"The output, when there are no duplicate elements in the list: \",duplicateElementsList)\n",
        "print(\"The output of the duplicate elements when there are duplicate elements in the array of intergers: \",duplicateElementsList_2)\n"
      ]
    },
    {
      "cell_type": "markdown",
      "metadata": {
        "id": "98Z0gInZco-f"
      },
      "source": [
        "(11) Write a Python program to select all the Sundays of a specified year. (4 extra points)"
      ]
    },
    {
      "cell_type": "code",
      "execution_count": 13,
      "metadata": {
        "id": "FRJ7Udu5co-g",
        "colab": {
          "base_uri": "https://localhost:8080/"
        },
        "outputId": "87af0031-7575-4b84-d76b-5aa47978afe9"
      },
      "outputs": [
        {
          "output_type": "stream",
          "name": "stdout",
          "text": [
            "Enter the year:2016\n",
            "The  1  Sunday:  2016-01-03\n",
            "The  2  Sunday:  2016-01-10\n",
            "The  3  Sunday:  2016-01-17\n",
            "The  4  Sunday:  2016-01-24\n",
            "The  5  Sunday:  2016-01-31\n",
            "The  6  Sunday:  2016-02-07\n",
            "The  7  Sunday:  2016-02-14\n",
            "The  8  Sunday:  2016-02-21\n",
            "The  9  Sunday:  2016-02-28\n",
            "The  10  Sunday:  2016-03-06\n",
            "The  11  Sunday:  2016-03-13\n",
            "The  12  Sunday:  2016-03-20\n",
            "The  13  Sunday:  2016-03-27\n",
            "The  14  Sunday:  2016-04-03\n",
            "The  15  Sunday:  2016-04-10\n",
            "The  16  Sunday:  2016-04-17\n",
            "The  17  Sunday:  2016-04-24\n",
            "The  18  Sunday:  2016-05-01\n",
            "The  19  Sunday:  2016-05-08\n",
            "The  20  Sunday:  2016-05-15\n",
            "The  21  Sunday:  2016-05-22\n",
            "The  22  Sunday:  2016-05-29\n",
            "The  23  Sunday:  2016-06-05\n",
            "The  24  Sunday:  2016-06-12\n",
            "The  25  Sunday:  2016-06-19\n",
            "The  26  Sunday:  2016-06-26\n",
            "The  27  Sunday:  2016-07-03\n",
            "The  28  Sunday:  2016-07-10\n",
            "The  29  Sunday:  2016-07-17\n",
            "The  30  Sunday:  2016-07-24\n",
            "The  31  Sunday:  2016-07-31\n",
            "The  32  Sunday:  2016-08-07\n",
            "The  33  Sunday:  2016-08-14\n",
            "The  34  Sunday:  2016-08-21\n",
            "The  35  Sunday:  2016-08-28\n",
            "The  36  Sunday:  2016-09-04\n",
            "The  37  Sunday:  2016-09-11\n",
            "The  38  Sunday:  2016-09-18\n",
            "The  39  Sunday:  2016-09-25\n",
            "The  40  Sunday:  2016-10-02\n",
            "The  41  Sunday:  2016-10-09\n",
            "The  42  Sunday:  2016-10-16\n",
            "The  43  Sunday:  2016-10-23\n",
            "The  44  Sunday:  2016-10-30\n",
            "The  45  Sunday:  2016-11-06\n",
            "The  46  Sunday:  2016-11-13\n",
            "The  47  Sunday:  2016-11-20\n",
            "The  48  Sunday:  2016-11-27\n",
            "The  49  Sunday:  2016-12-04\n",
            "The  50  Sunday:  2016-12-11\n",
            "The  51  Sunday:  2016-12-18\n",
            "The  52  Sunday:  2016-12-25\n"
          ]
        }
      ],
      "source": [
        "# write your answer here\n",
        "from datetime import date,timedelta\n",
        "def find_the_sundays(yearToCheck):\n",
        "  listOfDates = []\n",
        "  dateOftheDay = date(year,1,1)\n",
        "  dateOftheDay += timedelta(days = 6 - dateOftheDay.weekday())\n",
        "  while dateOftheDay.year == yearToCheck:\n",
        "    listOfDates.append(dateOftheDay)\n",
        "    dateOftheDay+=timedelta(days=7)\n",
        "  return listOfDates\n",
        "\n",
        "year = int(input(\"Enter the year:\"))\n",
        "listOfSundays = find_the_sundays(year)\n",
        "for index,sunday in enumerate(listOfSundays):\n",
        "  print(\"The \",index+1,\" Sunday: \",sunday)"
      ]
    },
    {
      "cell_type": "code",
      "source": [],
      "metadata": {
        "id": "pHMNr3zhuiJ8"
      },
      "execution_count": null,
      "outputs": []
    }
  ],
  "metadata": {
    "colab": {
      "provenance": [],
      "include_colab_link": true
    },
    "kernelspec": {
      "display_name": "Python 3 (ipykernel)",
      "language": "python",
      "name": "python3"
    },
    "language_info": {
      "codemirror_mode": {
        "name": "ipython",
        "version": 3
      },
      "file_extension": ".py",
      "mimetype": "text/x-python",
      "name": "python",
      "nbconvert_exporter": "python",
      "pygments_lexer": "ipython3",
      "version": "3.9.12"
    }
  },
  "nbformat": 4,
  "nbformat_minor": 0
}